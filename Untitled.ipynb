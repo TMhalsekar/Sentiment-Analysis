{
 "cells": [
  {
   "cell_type": "code",
   "execution_count": 5,
   "metadata": {
    "collapsed": false
   },
   "outputs": [
    {
     "name": "stdout",
     "output_type": "stream",
     "text": [
      "Words in list negative-words.txt: 4783\n",
      "Words in list positive-words.txt: 2006\n"
     ]
    },
    {
     "name": "stderr",
     "output_type": "stream",
     "text": [
      " * Running on http://127.0.0.1:5000/ (Press CTRL+C to quit)\n",
      " * Restarting with stat\n"
     ]
    },
    {
     "ename": "SystemExit",
     "evalue": "1",
     "output_type": "error",
     "traceback": [
      "An exception has occurred, use %tb to see the full traceback.\n",
      "\u001b[0;31mSystemExit\u001b[0m\u001b[0;31m:\u001b[0m 1\n"
     ]
    },
    {
     "name": "stderr",
     "output_type": "stream",
     "text": [
      "C:\\Users\\Tushar\\Anaconda3\\lib\\site-packages\\IPython\\core\\interactiveshell.py:2889: UserWarning: To exit: use 'exit', 'quit', or Ctrl-D.\n",
      "  warn(\"To exit: use 'exit', 'quit', or Ctrl-D.\", stacklevel=1)\n"
     ]
    }
   ],
   "source": [
    "from flask import Flask, render_template, abort, request\n",
    "import sys\n",
    "from twython import Twython\n",
    "import nltk\n",
    "from dictionary import Dictionary\n",
    "\n",
    "APP_KEY = 'Pv6e78hu62e9bKRlRwgx81hSQ'\n",
    "APP_SECRET = 'TN6ap3v7rbVITmA6fW24AqcACOftac5S3dYPHP0IhruJjjj9Hv'\n",
    "\n",
    "twitter = Twython(APP_KEY, APP_SECRET, oauth_version=2)\n",
    "ACCESS_TOKEN = twitter.obtain_access_token()\n",
    "\n",
    "twitter = Twython(APP_KEY, access_token=ACCESS_TOKEN)\n",
    "\n",
    "app = Flask(__name__)\n",
    "\n",
    "class SentimentScore:\n",
    "    def __init__(self, positive_tweets, negative_tweets, neutral_tweets):\n",
    "\n",
    "        self.positive_tweets = positive_tweets\n",
    "        self.negative_tweets = negative_tweets\n",
    "        self.neutral_tweets = neutral_tweets\n",
    "\n",
    "        self.neg = len(negative_tweets)\n",
    "        self.pos = len(positive_tweets)\n",
    "        self.neut = len(neutral_tweets)\n",
    "\n",
    "\n",
    "\n",
    "\n",
    "dictionaryN = Dictionary('negative-words.txt')\n",
    "\n",
    "dictionaryP = Dictionary('positive-words.txt')\n",
    "\n",
    "def sentiment(tweet):\n",
    "\n",
    "    negative_score = 0\n",
    "    positive_score = 0\n",
    "\n",
    "    tokenizer = nltk.tokenize.TweetTokenizer()\n",
    "    tweet_words = tokenizer.tokenize(tweet)\n",
    "\n",
    "    for word in tweet_words:\n",
    "        negative_score += dictionaryN.check(word)\n",
    "\n",
    "    for word in tweet_words:\n",
    "        positive_score += dictionaryP.check(word)\n",
    "\n",
    "    if negative_score > positive_score:\n",
    "        return 'negative'\n",
    "    elif negative_score == positive_score:\n",
    "        return 'neutral'\n",
    "    else:\n",
    "        return 'positive'\n",
    "\n",
    "    # use dictionary to count negative frequent\n",
    "\n",
    "def sentiment_analysis(tweets):\n",
    "\n",
    "    negative_tweets = []\n",
    "    positive_tweets = []\n",
    "    neutral_tweets = []\n",
    "\n",
    "    for tweet in tweets:\n",
    "\n",
    "        res = sentiment(tweet['text'])\n",
    "\n",
    "        if res == 'negative':\n",
    "            negative_tweets.append(tweet['text'])\n",
    "        elif res == 'positive':\n",
    "            positive_tweets.append(tweet['text'])\n",
    "        else:\n",
    "            neutral_tweets.append(tweet['text'])\n",
    "\n",
    "\n",
    "    return SentimentScore(positive_tweets, negative_tweets, neutral_tweets)\n",
    "\n",
    "\n",
    "@app.route(\"/\", methods=[\"POST\",\"GET\"])\n",
    "def root():\n",
    "\n",
    "    if request.method == \"POST\":\n",
    "\n",
    "        user_timeline = twitter.get_user_timeline(screen_name=request.form['twitter_username'], count = 100)\n",
    "\n",
    "        return render_template(\"result.html\", result=sentiment_analysis(user_timeline), username=request.form['twitter_username'])\n",
    "    else:\n",
    "        return render_template(\"index.html\")\n",
    "\n",
    "\n",
    "@app.errorhandler(404)\n",
    "def page_not_found(e):\n",
    "    return render_template('404.html'), 404\n",
    "\n",
    "\n",
    "app.run(debug=True)\n"
   ]
  },
  {
   "cell_type": "code",
   "execution_count": null,
   "metadata": {
    "collapsed": true
   },
   "outputs": [],
   "source": []
  }
 ],
 "metadata": {
  "kernelspec": {
   "display_name": "Python 3",
   "language": "python",
   "name": "python3"
  },
  "language_info": {
   "codemirror_mode": {
    "name": "ipython",
    "version": 3
   },
   "file_extension": ".py",
   "mimetype": "text/x-python",
   "name": "python",
   "nbconvert_exporter": "python",
   "pygments_lexer": "ipython3",
   "version": "3.6.0"
  }
 },
 "nbformat": 4,
 "nbformat_minor": 2
}
